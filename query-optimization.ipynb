{
 "cells": [
  {
   "cell_type": "markdown",
   "id": "353ab721",
   "metadata": {},
   "source": [
    "# Query Optimization"
   ]
  },
  {
   "cell_type": "code",
   "execution_count": 2,
   "id": "9da6dc4c",
   "metadata": {},
   "outputs": [],
   "source": [
    "import psycopg2"
   ]
  },
  {
   "cell_type": "code",
   "execution_count": 10,
   "id": "d3214ac8",
   "metadata": {},
   "outputs": [],
   "source": [
    "conn = psycopg2.connect(\n",
    "    host=\"traffic.cdq38kterv50.us-east-1.rds.amazonaws.com\",\n",
    "    database=\"traffic_crashes_v5\",\n",
    "    user=\"group4\", \n",
    "    password=\"GroupNumberFour\"\n",
    ")"
   ]
  },
  {
   "cell_type": "markdown",
   "id": "b302ff54",
   "metadata": {},
   "source": [
    "## Before Optimization"
   ]
  },
  {
   "cell_type": "markdown",
   "id": "354d7a29",
   "metadata": {},
   "source": [
    "### Query 1"
   ]
  },
  {
   "cell_type": "code",
   "execution_count": 4,
   "id": "acf78fdd",
   "metadata": {},
   "outputs": [
    {
     "data": {
      "text/plain": [
       "[('BALLSTON LANE', 2, 1, Decimal('0.500')),\n",
       " ('THE VILLAGES', 3, 1, Decimal('0.333')),\n",
       " ('MINERAL WELLS', 3, 1, Decimal('0.333')),\n",
       " ('MOUNTAIN VIEW', 15, 1, Decimal('0.067')),\n",
       " ('SHORELINE', 17, 1, Decimal('0.059'))]"
      ]
     },
     "metadata": {},
     "output_type": "display_data"
    },
    {
     "name": "stdout",
     "output_type": "stream",
     "text": [
      "CPU times: user 8.76 ms, sys: 2.67 ms, total: 11.4 ms\n",
      "Wall time: 19.4 s\n"
     ]
    }
   ],
   "source": [
    "%%time\n",
    "cursor = conn.cursor()\n",
    "cursor.execute(f\"\"\"\n",
    "      WITH crash_city AS (\n",
    "        SELECT DISTINCT\n",
    "            c.crash_record_id,\n",
    "            p.city_id\n",
    "        FROM crash c\n",
    "        JOIN person p ON c.crash_record_id = p.crash_record_id\n",
    "        WHERE p.city_id IS NOT NULL \n",
    "      ),\n",
    "      city_stats AS (\n",
    "        SELECT\n",
    "            ci.name AS city_name,\n",
    "            COUNT(*) AS total_crashes,\n",
    "            SUM(c.injuries_fatal) AS total_fatalities\n",
    "        FROM crash_city cc\n",
    "        JOIN crash c ON cc.crash_record_id = c.crash_record_id\n",
    "        JOIN city ci ON cc.city_id = ci.id\n",
    "        GROUP BY ci.name\n",
    "        HAVING SUM(c.injuries_fatal) > 0\n",
    "      )\n",
    "      SELECT\n",
    "        city_name,\n",
    "        total_crashes,\n",
    "        total_fatalities,\n",
    "        ROUND(\n",
    "            CASE WHEN total_crashes > 0\n",
    "                THEN total_fatalities::NUMERIC / total_crashes\n",
    "                ELSE 0 END,\n",
    "            3\n",
    "        ) AS severity_index\n",
    "      FROM city_stats\n",
    "      ORDER BY severity_index DESC\n",
    "      LIMIT 5;\n",
    "\"\"\")\n",
    "results = cursor.fetchall()\n",
    "display(results)"
   ]
  },
  {
   "cell_type": "markdown",
   "id": "67388c4a",
   "metadata": {},
   "source": [
    "### Query 2"
   ]
  },
  {
   "cell_type": "code",
   "execution_count": 43,
   "id": "a241cf84",
   "metadata": {},
   "outputs": [
    {
     "data": {
      "text/plain": [
       "[('PASSENGER', 426, Decimal('38.8')),\n",
       " ('SPORT UTILITY VEHICLE (SUV)', 81, Decimal('39.3')),\n",
       " ('VAN/MINI-VAN', 29, Decimal('38.9')),\n",
       " ('MOTORCYCLE (OVER 150CC)', 24, Decimal('49.5')),\n",
       " ('PICKUP', 23, Decimal('35.1')),\n",
       " ('UNKNOWN/NA', 21, Decimal('40.3')),\n",
       " ('TRUCK - SINGLE UNIT', 14, Decimal('43.2')),\n",
       " ('BUS OVER 15 PASS.', 9, Decimal('43.3')),\n",
       " ('TRACTOR W/ SEMI-TRAILER', 8, Decimal('36.0')),\n",
       " ('OTHER', 7, Decimal('41.1')),\n",
       " ('TRACTOR W/O SEMI-TRAILER', 2, Decimal('38.5')),\n",
       " ('SINGLE UNIT TRUCK WITH TRAILER', 2, Decimal('58.5')),\n",
       " ('BUS UP TO 15 PASS.', 1, Decimal('49.0'))]"
      ]
     },
     "metadata": {},
     "output_type": "display_data"
    },
    {
     "name": "stdout",
     "output_type": "stream",
     "text": [
      "CPU times: user 5.17 ms, sys: 2.62 ms, total: 7.79 ms\n",
      "Wall time: 9.94 s\n"
     ]
    }
   ],
   "source": [
    "%%time\n",
    "cursor = conn.cursor()\n",
    "cursor.execute(f\"\"\"\n",
    "      WITH fatal_crashes AS (\n",
    "          SELECT DISTINCT crash_record_id\n",
    "          FROM crash\n",
    "          WHERE injuries_fatal > 0\n",
    "      )\n",
    "      SELECT vt.name AS vehicle_type,\n",
    "          COUNT(*) AS fatal_crash_count,\n",
    "          ROUND(AVG(p.age), 1) AS avg_driver_age\n",
    "      FROM fatal_crashes fc\n",
    "      JOIN vehicle v ON fc.crash_record_id = v.crash_record_id\n",
    "      JOIN vehicle_type vt ON v.vehicle_type_id = vt.id\n",
    "      JOIN person p ON v.vehicle_id = p.vehicle_id\n",
    "      JOIN person_type pt ON p.person_type_id = pt.id\n",
    "      WHERE pt.name = 'DRIVER'\n",
    "      GROUP BY vt.name\n",
    "      ORDER BY fatal_crash_count DESC\n",
    "\"\"\")\n",
    "results = cursor.fetchall()\n",
    "display(results)"
   ]
  },
  {
   "cell_type": "markdown",
   "id": "6fc5529a",
   "metadata": {},
   "source": [
    "### Query 3"
   ]
  },
  {
   "cell_type": "code",
   "execution_count": 56,
   "id": "696fe7f4",
   "metadata": {},
   "outputs": [
    {
     "data": {
      "text/plain": [
       "[('DOT COMPLIANT MOTORCYCLE HELMET', 860, 10),\n",
       " ('HELMET NOT USED', 1074, 18),\n",
       " ('HELMET USED', 284, 3),\n",
       " ('NONE PRESENT', 19754, 19),\n",
       " ('NOT DOT COMPLIANT MOTORCYCLE HELMET', 127, 3),\n",
       " ('SAFETY BELT NOT USED', 3400, 20),\n",
       " ('SAFETY BELT USED', 449889, 30),\n",
       " ('SHOULD/LAP BELT USED IMPROPERLY', 122, 0),\n",
       " ('STRETCHER', 2, 0),\n",
       " ('USAGE UNKNOWN', 278721, 144),\n",
       " ('WHEELCHAIR', 2, 0)]"
      ]
     },
     "metadata": {},
     "output_type": "display_data"
    },
    {
     "name": "stdout",
     "output_type": "stream",
     "text": [
      "CPU times: user 4.12 ms, sys: 2.39 ms, total: 6.52 ms\n",
      "Wall time: 11.2 s\n"
     ]
    }
   ],
   "source": [
    "%%time\n",
    "cursor = conn.cursor()\n",
    "cursor.execute(f\"\"\"\n",
    "    SELECT se.name AS safety_equipment,\n",
    "          COUNT(*) AS total_drivers,\n",
    "          SUM(CASE WHEN ic.name = 'FATAL' THEN 1 ELSE 0 END) AS fatal_drivers\n",
    "      FROM person p\n",
    "      JOIN person_type pt ON p.person_type_id = pt.id\n",
    "      JOIN crash c ON p.crash_record_id = c.crash_record_id\n",
    "      JOIN safety_equipment se ON p.safety_equipment_id = se.id\n",
    "      JOIN injury_classification ic ON p.injury_classification_id = ic.id\n",
    "      WHERE pt.name = 'DRIVER'\n",
    "      GROUP BY se.name;\n",
    "\"\"\")\n",
    "results = cursor.fetchall()\n",
    "display(results)"
   ]
  },
  {
   "cell_type": "markdown",
   "id": "0a092af7",
   "metadata": {},
   "source": [
    "### Query 4"
   ]
  },
  {
   "cell_type": "code",
   "execution_count": 63,
   "id": "3d3b7afd",
   "metadata": {},
   "outputs": [
    {
     "data": {
      "text/plain": [
       "[('N', 351027, 334),\n",
       " ('S', 343282, 331),\n",
       " ('W', 312173, 247),\n",
       " ('E', 306640, 248),\n",
       " ('UNKNOWN', 65125, 79),\n",
       " ('SE', 19574, 12),\n",
       " ('NW', 17745, 13),\n",
       " ('SW', 14706, 5),\n",
       " ('NE', 14323, 14)]"
      ]
     },
     "metadata": {},
     "output_type": "display_data"
    },
    {
     "name": "stdout",
     "output_type": "stream",
     "text": [
      "CPU times: user 3.39 ms, sys: 2.04 ms, total: 5.43 ms\n",
      "Wall time: 12.5 s\n"
     ]
    }
   ],
   "source": [
    "%%time\n",
    "cursor = conn.cursor()\n",
    "cursor.execute(f\"\"\"\n",
    "SELECT td.name AS travel_direction,\n",
    "          COUNT(*) AS vehicle_count,\n",
    "          SUM(c.injuries_fatal) AS total_fatalities\n",
    "      FROM public.vehicle v\n",
    "      JOIN public.travel_direction td ON v.travel_direction_id = td.id\n",
    "      JOIN public.crash c ON v.crash_record_id = c.crash_record_id\n",
    "      GROUP BY td.name\n",
    "      ORDER BY vehicle_count DESC;\n",
    "\"\"\")\n",
    "results = cursor.fetchall()\n",
    "display(results)"
   ]
  },
  {
   "cell_type": "markdown",
   "id": "437f1af2",
   "metadata": {},
   "source": [
    "### Query 5"
   ]
  },
  {
   "cell_type": "code",
   "execution_count": 76,
   "id": "aa282696",
   "metadata": {},
   "outputs": [
    {
     "data": {
      "text/plain": [
       "[('MOTORCYCLE (OVER 150CC)', 3279, 49, Decimal('1.49')),\n",
       " ('MOPED OR MOTORIZED BICYCLE', 309, 1, Decimal('0.32')),\n",
       " ('TRACTOR W/O SEMI-TRAILER', 1754, 5, Decimal('0.29')),\n",
       " ('PICKUP', 48534, 51, Decimal('0.11')),\n",
       " ('TRACTOR W/ SEMI-TRAILER', 13006, 14, Decimal('0.11')),\n",
       " ('SINGLE UNIT TRUCK WITH TRAILER', 1954, 2, Decimal('0.10')),\n",
       " ('UNKNOWN/NA', 38557, 34, Decimal('0.09')),\n",
       " ('PASSENGER', 982599, 856, Decimal('0.09')),\n",
       " ('VAN/MINI-VAN', 70817, 60, Decimal('0.08')),\n",
       " ('BUS OVER 15 PASS.', 16560, 14, Decimal('0.08')),\n",
       " ('TRUCK - SINGLE UNIT', 26270, 20, Decimal('0.08')),\n",
       " ('OTHER', 15541, 11, Decimal('0.07')),\n",
       " ('SPORT UTILITY VEHICLE (SUV)', 218273, 163, Decimal('0.07')),\n",
       " ('OTHER VEHICLE WITH TRAILER', 1907, 1, Decimal('0.05')),\n",
       " ('BUS UP TO 15 PASS.', 4657, 2, Decimal('0.04')),\n",
       " ('SNOWMOBILE', 1, 0, Decimal('0.00')),\n",
       " ('AUTOCYCLE', 196, 0, Decimal('0.00')),\n",
       " ('3-WHEELED MOTORCYCLE (2 REAR WHEELS)', 49, 0, Decimal('0.00')),\n",
       " ('ALL-TERRAIN VEHICLE (ATV)', 72, 0, Decimal('0.00')),\n",
       " ('RECREATIONAL OFF-HIGHWAY VEHICLE (ROV)', 9, 0, Decimal('0.00')),\n",
       " ('MOTOR DRIVEN CYCLE', 230, 0, Decimal('0.00')),\n",
       " ('FARM EQUIPMENT', 21, 0, Decimal('0.00'))]"
      ]
     },
     "metadata": {},
     "output_type": "display_data"
    },
    {
     "name": "stdout",
     "output_type": "stream",
     "text": [
      "CPU times: user 6.34 ms, sys: 2.37 ms, total: 8.71 ms\n",
      "Wall time: 12.5 s\n"
     ]
    }
   ],
   "source": [
    "%%time\n",
    "cursor = conn.cursor()\n",
    "cursor.execute(f\"\"\"\n",
    "    SELECT vt.name AS v,\n",
    "          COUNT(*) AS vehicle_count,\n",
    "          SUM(c.injuries_fatal) AS total_fatalities,\n",
    "          ROUND(100.0 * SUM(c.injuries_fatal) / COUNT(*), 2) AS fatal_rate_pct\n",
    "      FROM public.vehicle v\n",
    "      JOIN public.vehicle_type vt ON v.vehicle_type_id = vt.id\n",
    "      JOIN public.crash c ON v.crash_record_id = c.crash_record_id\n",
    "      GROUP BY vt.name\n",
    "      ORDER BY fatal_rate_pct DESC;\n",
    "\"\"\")\n",
    "results = cursor.fetchall()\n",
    "display(results)"
   ]
  },
  {
   "cell_type": "markdown",
   "id": "c9e8de4f",
   "metadata": {},
   "source": [
    "### Query 6"
   ]
  },
  {
   "cell_type": "code",
   "execution_count": 90,
   "id": "fd0b31cf",
   "metadata": {},
   "outputs": [
    {
     "data": {
      "text/plain": [
       "[('10-25', 495834, 575, Decimal('0.12')),\n",
       " ('5-10', 477711, 365, Decimal('0.08')),\n",
       " ('Under 5', 460798, 322, Decimal('0.07')),\n",
       " ('25+', 10252, 21, Decimal('0.20'))]"
      ]
     },
     "metadata": {},
     "output_type": "display_data"
    },
    {
     "name": "stdout",
     "output_type": "stream",
     "text": [
      "CPU times: user 3.83 ms, sys: 2.88 ms, total: 6.71 ms\n",
      "Wall time: 12.6 s\n"
     ]
    }
   ],
   "source": [
    "%%time\n",
    "cursor = conn.cursor()\n",
    "cursor.execute(f\"\"\"\n",
    "    SELECT CASE\n",
    "              WHEN c.crash_year - v.vehicle_year < 5 THEN 'Under 5'\n",
    "              WHEN c.crash_year - v.vehicle_year BETWEEN 5 AND 10 THEN '5-10'\n",
    "              WHEN c.crash_year - v.vehicle_year BETWEEN 10 AND 25 THEN '10-25'\n",
    "              ELSE '25+' END AS vehicle_age,\n",
    "          COUNT(*) AS vehicle_count,\n",
    "          SUM(c.injuries_fatal) AS total_fatalities,\n",
    "          ROUND(100.0 * SUM(c.injuries_fatal) / COUNT(*), 2) AS fatal_rate_pct\n",
    "      FROM public.vehicle v\n",
    "      JOIN public.vehicle_type vt ON v.vehicle_type_id = vt.id\n",
    "      JOIN public.crash c ON v.crash_record_id = c.crash_record_id\n",
    "      GROUP BY vehicle_age\n",
    "      ORDER BY total_fatalities DESC;\n",
    "\"\"\")\n",
    "results = cursor.fetchall()\n",
    "display(results)"
   ]
  },
  {
   "cell_type": "markdown",
   "id": "46327a77",
   "metadata": {},
   "source": [
    "### Query 7"
   ]
  },
  {
   "cell_type": "code",
   "execution_count": 43,
   "id": "63ea4b6c",
   "metadata": {},
   "outputs": [
    {
     "data": {
      "text/plain": [
       "[('PEDESTRIAN', 1776, 16, Decimal('0.90')),\n",
       " ('FIXED OBJECT', 3183, 27, Decimal('0.85')),\n",
       " ('HEAD ON', 748, 2, Decimal('0.27')),\n",
       " ('PEDALCYCLIST', 1255, 3, Decimal('0.24')),\n",
       " ('ANGLE', 8647, 6, Decimal('0.07'))]"
      ]
     },
     "metadata": {},
     "output_type": "display_data"
    },
    {
     "name": "stdout",
     "output_type": "stream",
     "text": [
      "CPU times: user 4.51 ms, sys: 6.17 ms, total: 10.7 ms\n",
      "Wall time: 9.55 s\n"
     ]
    }
   ],
   "source": [
    "%%time\n",
    "cursor = conn.cursor()\n",
    "cursor.execute(f\"\"\"\n",
    "    SELECT ct.name AS crash_type, COUNT(*) AS total_crashes, \n",
    "        SUM(c.injuries_fatal) AS total_fatalities,\n",
    "            ROUND(100.0 * SUM(c.injuries_fatal) / COUNT(*), 2) AS fatality_rate_pct\n",
    "        FROM public.crash c\n",
    "        JOIN public.first_crash_type ct ON c.first_crash_type_id = ct.id\n",
    "        WHERE c.crash_year = '2017'\n",
    "        GROUP BY ct.name\n",
    "        ORDER BY fatality_rate_pct DESC\n",
    "        LIMIT 5;\n",
    "\"\"\")\n",
    "results = cursor.fetchall()\n",
    "display(results)"
   ]
  },
  {
   "cell_type": "markdown",
   "id": "414b3554",
   "metadata": {},
   "source": [
    "### Query 8"
   ]
  },
  {
   "cell_type": "code",
   "execution_count": 19,
   "id": "ad307e6b",
   "metadata": {},
   "outputs": [
    {
     "data": {
      "text/plain": [
       "[('CLEAR', 702576, 682),\n",
       " ('RAIN', 77071, 93),\n",
       " ('UNKNOWN', 52521, 14),\n",
       " ('SNOW', 29495, 23),\n",
       " ('CLOUDY/OVERCAST', 26281, 18)]"
      ]
     },
     "metadata": {},
     "output_type": "display_data"
    },
    {
     "name": "stdout",
     "output_type": "stream",
     "text": [
      "CPU times: user 3.49 ms, sys: 2.77 ms, total: 6.26 ms\n",
      "Wall time: 4.33 s\n"
     ]
    }
   ],
   "source": [
    "%%time\n",
    "cursor = conn.cursor()\n",
    "cursor.execute(f\"\"\"\n",
    "    SELECT wc.name AS weather_condition, COUNT(*) AS total_crashes, SUM(c.injuries_fatal) AS fatal_crashes\n",
    "      FROM public.crash c\n",
    "      JOIN public.weather_condition wc ON c.weather_condition_id = wc.id\n",
    "      GROUP BY wc.name\n",
    "      ORDER BY total_crashes DESC\n",
    "      LIMIT 5;\n",
    "\"\"\")\n",
    "results = cursor.fetchall()\n",
    "display(results)"
   ]
  },
  {
   "cell_type": "markdown",
   "id": "76ab10e6",
   "metadata": {},
   "source": [
    "### Query 9"
   ]
  },
  {
   "cell_type": "code",
   "execution_count": 20,
   "id": "c4bf565b",
   "metadata": {},
   "outputs": [
    {
     "data": {
      "text/plain": [
       "[('FAILING TO YIELD RIGHT-OF-WAY', 1),\n",
       " ('IMPROPER TURNING/NO SIGNAL', 1),\n",
       " ('PHYSICAL CONDITION OF DRIVER', 1)]"
      ]
     },
     "metadata": {},
     "output_type": "display_data"
    },
    {
     "name": "stdout",
     "output_type": "stream",
     "text": [
      "CPU times: user 3.09 ms, sys: 1.89 ms, total: 4.98 ms\n",
      "Wall time: 4.06 s\n"
     ]
    }
   ],
   "source": [
    "%%time\n",
    "cursor = conn.cursor()\n",
    "cursor.execute(f\"\"\"\n",
    "      SELECT pcc.name AS primary_cause, COUNT(*) AS fatal_crashes\n",
    "      FROM public.crash c\n",
    "      JOIN public.prim_contributory_cause pcc ON \n",
    "        c.prim_contributory_cause_id = pcc.id\n",
    "      WHERE c.crash_year = '2015' AND c.injuries_fatal > 0 \n",
    "      GROUP BY pcc.name\n",
    "      ORDER BY fatal_crashes DESC\n",
    "      LIMIT 5;\n",
    "\"\"\")\n",
    "results = cursor.fetchall()\n",
    "display(results)"
   ]
  },
  {
   "cell_type": "markdown",
   "id": "0f766bf5",
   "metadata": {},
   "source": [
    "### Query 10"
   ]
  },
  {
   "cell_type": "code",
   "execution_count": 21,
   "id": "0f080b59",
   "metadata": {},
   "outputs": [
    {
     "data": {
      "text/plain": [
       "[('CLEAR', 18857, 12),\n",
       " ('UNKNOWN', 2317, 1),\n",
       " ('RAIN', 1696, 1),\n",
       " ('SNOW', 1625, 1),\n",
       " ('CLOUDY/OVERCAST', 849, 0)]"
      ]
     },
     "metadata": {},
     "output_type": "display_data"
    },
    {
     "name": "stdout",
     "output_type": "stream",
     "text": [
      "CPU times: user 3.26 ms, sys: 2.39 ms, total: 5.65 ms\n",
      "Wall time: 4.04 s\n"
     ]
    }
   ],
   "source": [
    "%%time\n",
    "cursor = conn.cursor()\n",
    "cursor.execute(f\"\"\"\n",
    "      SELECT wc.name AS weather_condition, COUNT(*) AS total_crashes, SUM(c.injuries_fatal) AS fatal_crashes\n",
    "      FROM public.crash c\n",
    "      JOIN public.weather_condition wc ON c.weather_condition_id = wc.id\n",
    "      WHERE c.crash_year = '2025'\n",
    "      GROUP BY wc.name\n",
    "      ORDER BY total_crashes DESC\n",
    "      LIMIT 5;\n",
    "\"\"\")\n",
    "results = cursor.fetchall()\n",
    "display(results)"
   ]
  },
  {
   "cell_type": "markdown",
   "id": "4732bc19",
   "metadata": {},
   "source": [
    "## Index Creation"
   ]
  },
  {
   "cell_type": "code",
   "execution_count": null,
   "id": "c8592c80",
   "metadata": {},
   "outputs": [],
   "source": [
    "cursor = conn.cursor()\n",
    "\n",
    "cursor.execute('''\n",
    "CREATE INDEX idx_person_crash_city ON person(crash_record_id, city_id) WHERE city_id IS NOT NULL;\n",
    "CREATE INDEX idx_city_name ON city(name);\n",
    "CREATE INDEX idx_crash_injuries ON crash(crash_record_id, injuries_fatal);\n",
    "CREATE INDEX idx_vehicle_crash_type_id ON vehicle(crash_record_id, vehicle_type_id, vehicle_id);\n",
    "CREATE INDEX idx_person_vehicle_driver ON person(vehicle_id, person_type_id, age);\n",
    "CREATE INDEX idx_person_type_driver ON person_type(id) WHERE name = 'DRIVER';\n",
    "CREATE INDEX idx_vehicle_type_name ON vehicle_type(id, name);\n",
    "CREATE INDEX idx_person_driver_safety ON person(person_type_id, safety_equipment_id, injury_classification_id, crash_record_id);\n",
    "CREATE INDEX idx_crash_year ON crash(crash_year);\n",
    "CREATE INDEX idx_vehicle_travel_crash ON vehicle(travel_direction_id, crash_record_id);\n",
    "CREATE INDEX idx_vehicle_covering ON vehicle(travel_direction_id, crash_record_id, vehicle_id);\n",
    "CREATE INDEX idx_travel_direction_covering ON travel_direction(id, name);\n",
    "CREATE INDEX idx_vehicle_type_crash ON vehicle(vehicle_type_id, crash_record_id);\n",
    "CREATE INDEX idx_vehicle_type ON vehicle(vehicle_type_id);\n",
    "CREATE INDEX idx_vehicle_age_crash ON vehicle(crash_record_id, vehicle_year, vehicle_type_id);\n",
    "CREATE INDEX idx_crash_year_fatal ON crash(crash_record_id, crash_year, injuries_fatal);\n",
    "CREATE INDEX idx_crash_type_fatalities ON crash(first_crash_type_id, injuries_fatal);\n",
    "CREATE INDEX idx_first_crash_type_id_name ON first_crash_type(id, name);\n",
    "CREATE INDEX idx_crash_weather_fatalities ON crash(weather_condition_id, injuries_fatal);\n",
    "CREATE INDEX idx_weather_condition_id_name ON weather_condition(id, name);\n",
    "CREATE INDEX idx_crash_filters ON crash(posted_speed_limit, injuries_total, crash_hour, crash_record_id);\n",
    "CREATE INDEX idx_weather_condition_name ON weather_condition(name);\n",
    "CREATE INDEX idx_lighting_condition_name ON lighting_condition(name);\n",
    "CREATE INDEX idx_first_crash_type_name ON first_crash_type(name);\n",
    "CREATE INDEX idx_trafficway_type_name ON trafficway_type(name);\n",
    "CREATE INDEX idx_roadway_surface_condition_name ON roadway_surface_condition(name);\n",
    "CREATE INDEX idx_damage_name ON damage(name);\n",
    "CREATE INDEX idx_safety_equipment_name ON safety_equipment(name);\n",
    "CREATE INDEX idx_crash_search_filters ON crash(posted_speed_limit, injuries_total, crash_hour);\n",
    "CREATE INDEX idx_crash_record_id_text ON crash(crash_record_id text_pattern_ops);\n",
    "CREATE INDEX idx_crash_weather_condition_id ON crash(weather_condition_id);\n",
    "CREATE INDEX idx_crash_lighting_condition_id ON crash(lighting_condition_id);\n",
    "CREATE INDEX idx_crash_crash_type_id ON crash(crash_type_id);\n",
    "CREATE INDEX idx_crash_trafficway_type_id ON crash(trafficway_type_id);\n",
    "CREATE INDEX idx_crash_roadway_surface_cond_id ON crash(roadway_surface_cond_id);\n",
    "CREATE INDEX idx_crash_damage_id ON crash(damage_id);\n",
    "\n",
    "''')\n",
    "\n",
    "conn.commit()"
   ]
  },
  {
   "cell_type": "markdown",
   "id": "c604b49d",
   "metadata": {},
   "source": [
    "## Materialized Views"
   ]
  },
  {
   "cell_type": "code",
   "execution_count": 46,
   "id": "f592ab18",
   "metadata": {},
   "outputs": [],
   "source": [
    "cursor = conn.cursor()\n",
    "\n",
    "cursor.execute('''\n",
    "        CREATE MATERIALIZED VIEW mv_city_crash_severity AS\n",
    "        SELECT c.crash_year,\n",
    "            ci.name AS city_name,\n",
    "            COUNT(DISTINCT c.crash_record_id) AS total_crashes,\n",
    "            SUM(c.injuries_fatal) AS total_fatalities,\n",
    "            ROUND(SUM(c.injuries_fatal)::NUMERIC / COUNT(DISTINCT c.crash_record_id), 3) AS severity_index\n",
    "        FROM crash c\n",
    "        JOIN person p ON c.crash_record_id = p.crash_record_id\n",
    "        JOIN city ci ON p.city_id = ci.id\n",
    "        WHERE p.city_id IS NOT NULL\n",
    "        GROUP BY c.crash_year, ci.name\n",
    "        HAVING SUM(c.injuries_fatal) > 0;\n",
    "''')\n",
    "\n",
    "conn.commit()"
   ]
  },
  {
   "cell_type": "code",
   "execution_count": 67,
   "id": "1ce0879f",
   "metadata": {},
   "outputs": [],
   "source": [
    "cursor = conn.cursor()\n",
    "\n",
    "cursor.execute('''\n",
    "    CREATE MATERIALIZED VIEW mv_vehicle_type_fatal_driver_stats AS\n",
    "    SELECT vt.name AS vehicle_type,\n",
    "        COUNT(*) AS fatal_crash_count,\n",
    "        ROUND(AVG(p.age), 1) AS avg_driver_age\n",
    "    FROM crash c\n",
    "    JOIN vehicle v ON c.crash_record_id = v.crash_record_id\n",
    "    JOIN vehicle_type vt ON v.vehicle_type_id = vt.id\n",
    "    JOIN person p ON v.vehicle_id = p.vehicle_id\n",
    "    JOIN person_type pt ON p.person_type_id = pt.id\n",
    "    WHERE c.injuries_fatal > 0 \n",
    "    AND pt.name = 'DRIVER'\n",
    "    GROUP BY vt.name;\n",
    "''')\n",
    "\n",
    "conn.commit()"
   ]
  },
  {
   "cell_type": "code",
   "execution_count": 58,
   "id": "96098ca8",
   "metadata": {},
   "outputs": [],
   "source": [
    "cursor = conn.cursor()\n",
    "\n",
    "cursor.execute('''\n",
    "    CREATE MATERIALIZED VIEW mv_travel_direction_stats AS\n",
    "    SELECT c.crash_year,\n",
    "        td.name AS travel_direction,\n",
    "        COUNT(*) AS vehicle_count,\n",
    "        SUM(c.injuries_fatal) AS total_fatalities\n",
    "    FROM vehicle v\n",
    "    JOIN travel_direction td ON v.travel_direction_id = td.id\n",
    "    JOIN crash c ON v.crash_record_id = c.crash_record_id\n",
    "    GROUP BY c.crash_year, td.name;\n",
    "''')\n",
    "\n",
    "conn.commit()"
   ]
  },
  {
   "cell_type": "code",
   "execution_count": 27,
   "id": "8ed9ffb7",
   "metadata": {},
   "outputs": [],
   "source": [
    "cursor = conn.cursor()\n",
    "\n",
    "cursor.execute('''\n",
    "    CREATE MATERIALIZED VIEW mv_vehicle_fatality_stats AS\n",
    "        SELECT vt.name AS v,\n",
    "            COUNT(*) AS vehicle_count,\n",
    "            SUM(c.injuries_fatal) AS total_fatalities,\n",
    "            ROUND(100.0 * SUM(c.injuries_fatal) / COUNT(*), 2) AS fatal_rate_pct\n",
    "        FROM vehicle v\n",
    "        JOIN vehicle_type vt ON v.vehicle_type_id = vt.id\n",
    "        JOIN crash c ON v.crash_record_id = c.crash_record_id\n",
    "        GROUP BY vt.name;\n",
    "''')\n",
    "\n",
    "conn.commit()"
   ]
  },
  {
   "cell_type": "code",
   "execution_count": 28,
   "id": "3ee0e400",
   "metadata": {},
   "outputs": [],
   "source": [
    "cursor = conn.cursor()\n",
    "\n",
    "cursor.execute('''\n",
    "    CREATE MATERIALIZED VIEW mv_vehicle_age_stats AS\n",
    "        SELECT vt.name AS vehicle_type,\n",
    "            CASE\n",
    "                WHEN c.crash_year - v.vehicle_year < 5 THEN 'Under 5'\n",
    "                WHEN c.crash_year - v.vehicle_year BETWEEN 5 AND 10 THEN '5-10'\n",
    "                WHEN c.crash_year - v.vehicle_year BETWEEN 10 AND 25 THEN '10-25'\n",
    "                ELSE '25+' END AS vehicle_age,\n",
    "            COUNT(*) AS vehicle_count,\n",
    "            SUM(c.injuries_fatal) AS total_fatalities,\n",
    "            ROUND(100.0 * SUM(c.injuries_fatal) / COUNT(*), 2) AS fatal_rate_pct\n",
    "        FROM vehicle v\n",
    "        JOIN vehicle_type vt ON v.vehicle_type_id = vt.id\n",
    "        JOIN crash c ON v.crash_record_id = c.crash_record_id\n",
    "        GROUP BY vt.name, vehicle_age;\n",
    "''')\n",
    "\n",
    "conn.commit()"
   ]
  },
  {
   "cell_type": "code",
   "execution_count": 29,
   "id": "9e0b7b29",
   "metadata": {},
   "outputs": [],
   "source": [
    "cursor = conn.cursor()\n",
    "\n",
    "cursor.execute('''\n",
    "    CREATE MATERIALIZED VIEW mv_safety_equipment_driver_stats AS\n",
    "        SELECT se.name AS safety_equipment,\n",
    "            COUNT(*) AS total_drivers,\n",
    "            SUM(CASE WHEN ic.name = 'FATAL' THEN 1 ELSE 0 END) AS fatal_drivers\n",
    "        FROM person p\n",
    "        JOIN safety_equipment se ON p.safety_equipment_id = se.id\n",
    "        JOIN injury_classification ic ON p.injury_classification_id = ic.id\n",
    "        WHERE p.person_type_id = (SELECT id FROM person_type WHERE name = 'DRIVER')\n",
    "        GROUP BY se.name;\n",
    "''')\n",
    "\n",
    "conn.commit()"
   ]
  },
  {
   "cell_type": "code",
   "execution_count": 30,
   "id": "1c79c78c",
   "metadata": {},
   "outputs": [],
   "source": [
    "cursor = conn.cursor()\n",
    "\n",
    "cursor.execute('''\n",
    "    CREATE MATERIALIZED VIEW mv_primary_cause_fatal_stats AS\n",
    "    SELECT c.crash_year,\n",
    "        pcc.name AS primary_cause, \n",
    "        COUNT(*) AS fatal_crashes\n",
    "    FROM crash c\n",
    "    JOIN prim_contributory_cause pcc ON c.prim_contributory_cause_id = pcc.id\n",
    "    WHERE c.injuries_fatal > 0\n",
    "    GROUP BY c.crash_year, pcc.name;\n",
    "''')\n",
    "\n",
    "conn.commit()"
   ]
  },
  {
   "cell_type": "code",
   "execution_count": 31,
   "id": "e972e581",
   "metadata": {},
   "outputs": [],
   "source": [
    "cursor = conn.cursor()\n",
    "\n",
    "cursor.execute('''\n",
    "    CREATE MATERIALIZED VIEW mv_weather_condition_stats AS\n",
    "        SELECT c.crash_year,\n",
    "            wc.name AS weather_condition, \n",
    "            COUNT(*) AS total_crashes, \n",
    "            SUM(c.injuries_fatal) AS fatal_crashes\n",
    "        FROM crash c\n",
    "        JOIN weather_condition wc ON c.weather_condition_id = wc.id\n",
    "        GROUP BY c.crash_year, wc.name;\n",
    "''')\n",
    "\n",
    "conn.commit()"
   ]
  },
  {
   "cell_type": "code",
   "execution_count": 44,
   "id": "21e4514e",
   "metadata": {},
   "outputs": [],
   "source": [
    "cursor = conn.cursor()\n",
    "\n",
    "cursor.execute('''\n",
    "    CREATE MATERIALIZED VIEW mv_crash_type_fatality_stats AS\n",
    "        SELECT c.crash_year,\n",
    "            ct.name AS crash_type, \n",
    "            COUNT(*) AS total_crashes, \n",
    "            SUM(c.injuries_fatal) AS total_fatalities,\n",
    "            ROUND(100.0 * SUM(c.injuries_fatal) / COUNT(*), 2) AS fatality_rate_pct\n",
    "        FROM crash c\n",
    "        JOIN first_crash_type ct ON c.first_crash_type_id = ct.id\n",
    "        GROUP BY c.crash_year, ct.name;\n",
    "''')\n",
    "\n",
    "conn.commit()"
   ]
  },
  {
   "cell_type": "markdown",
   "id": "64cf3d9f",
   "metadata": {},
   "source": [
    "## Rollback Optimizations"
   ]
  },
  {
   "cell_type": "code",
   "execution_count": null,
   "id": "92db57de",
   "metadata": {},
   "outputs": [],
   "source": [
    "# cursor = conn.cursor()\n",
    "\n",
    "# cursor.execute('''\n",
    "#     DROP INDEX IF EXISTS idx_person_crash_city;\n",
    "#     DROP INDEX IF EXISTS idx_city_name;\n",
    "#     DROP INDEX IF EXISTS idx_crash_optimized; -- remove\n",
    "#     DROP INDEX IF EXISTS idx_crash_injuries;\n",
    "#     DROP INDEX IF EXISTS idx_vehicle_crash_type_id;\n",
    "#     DROP INDEX IF EXISTS idx_person_vehicle_driver;\n",
    "#     DROP INDEX IF EXISTS idx_person_type_driver;\n",
    "#     DROP INDEX IF EXISTS idx_vehicle_type_name;\n",
    "#     DROP INDEX IF EXISTS idx_person_driver_safety;\n",
    "#     DROP INDEX IF EXISTS idx_crash_year;\n",
    "#     DROP INDEX IF EXISTS idx_vehicle_travel_crash;\n",
    "#     DROP INDEX IF EXISTS idx_vehicle_covering;\n",
    "#     DROP INDEX IF EXISTS idx_travel_direction_covering;\n",
    "#     DROP INDEX IF EXISTS idx_vehicle_type_crash;\n",
    "#     DROP INDEX IF EXISTS idx_vehicle_type;\n",
    "#     DROP INDEX IF EXISTS idx_vehicle_age_crash;\n",
    "#     DROP INDEX IF EXISTS idx_crash_year_fatal;\n",
    "#     DROP INDEX IF EXISTS idx_crash_type_fatalities;\n",
    "#     DROP INDEX IF EXISTS idx_first_crash_type_id_name;\n",
    "#     DROP INDEX IF EXISTS idx_crash_weather_fatalities;\n",
    "#     DROP INDEX IF EXISTS idx_weather_condition_id_name;\n",
    "#     DROP INDEX IF EXISTS idx_crash_filters;\n",
    "#     DROP INDEX IF EXISTS idx_weather_condition_name;\n",
    "#     DROP INDEX IF EXISTS idx_lighting_condition_name;\n",
    "#     DROP INDEX IF EXISTS idx_first_crash_type_name;\n",
    "#     DROP INDEX IF EXISTS idx_trafficway_type_name;\n",
    "#     DROP INDEX IF EXISTS idx_roadway_surface_condition_name;\n",
    "#     DROP INDEX IF EXISTS idx_damage_name;\n",
    "#     DROP INDEX IF EXISTS idx_crash_search_filters;\n",
    "#     DROP INDEX IF EXISTS idx_crash_record_id_text;\n",
    "#     DROP INDEX IF EXISTS idx_crash_weather_condition_id;\n",
    "#     DROP INDEX IF EXISTS idx_crash_lighting_condition_id;\n",
    "#     DROP INDEX IF EXISTS idx_crash_crash_type_id;\n",
    "#     DROP INDEX IF EXISTS idx_crash_trafficway_type_id;\n",
    "#     DROP INDEX IF EXISTS idx_crash_roadway_surface_cond_id;\n",
    "#     DROP INDEX IF EXISTS idx_crash_damage_id;\n",
    "#     DROP MATERIALIZED VIEW IF EXISTS mv_city_crash_severity;\n",
    "#     DROP MATERIALIZED VIEW IF EXISTS mv_vehicle_type_fatal_driver_stats;\n",
    "#     DROP MATERIALIZED VIEW IF EXISTS mv_travel_direction_stats;\n",
    "#     DROP MATERIALIZED VIEW IF EXISTS mv_vehicle_fatality_stats;\n",
    "#     DROP MATERIALIZED VIEW IF EXISTS mv_vehicle_age_stats;\n",
    "#     DROP MATERIALIZED VIEW IF EXISTS mv_safety_equipment_driver_stats;\n",
    "#     DROP MATERIALIZED VIEW IF EXISTS mv_primary_cause_fatal_stats;\n",
    "#     DROP MATERIALIZED VIEW IF EXISTS mv_weather_condition_stats;\n",
    "#     DROP MATERIALIZED VIEW IF EXISTS mv_crash_type_fatality_stats;\n",
    "# ''')\n",
    "\n",
    "# conn.commit()"
   ]
  },
  {
   "cell_type": "markdown",
   "id": "58363931",
   "metadata": {},
   "source": [
    "## After Optimization"
   ]
  },
  {
   "cell_type": "markdown",
   "id": "b290ba10",
   "metadata": {},
   "source": [
    "### Query 1"
   ]
  },
  {
   "cell_type": "code",
   "execution_count": 48,
   "id": "e88af923",
   "metadata": {},
   "outputs": [
    {
     "data": {
      "text/plain": [
       "[('ROBBINS', 27, 1, Decimal('0.037')),\n",
       " ('VERNON HILLS', 52, 1, Decimal('0.019')),\n",
       " ('RICHTON PARK', 100, 1, Decimal('0.010')),\n",
       " ('JUSTICE', 109, 1, Decimal('0.009')),\n",
       " ('HOMEWOOD', 149, 1, Decimal('0.007'))]"
      ]
     },
     "metadata": {},
     "output_type": "display_data"
    },
    {
     "name": "stdout",
     "output_type": "stream",
     "text": [
      "CPU times: user 3.25 ms, sys: 2.69 ms, total: 5.94 ms\n",
      "Wall time: 169 ms\n"
     ]
    }
   ],
   "source": [
    "%%time\n",
    "cursor = conn.cursor()\n",
    "cursor.execute(f\"\"\"\n",
    "    SELECT city_name, total_crashes, total_fatalities, severity_index\n",
    "     FROM mv_city_crash_severity \n",
    "     WHERE crash_year = '2017'\n",
    "     ORDER BY severity_index DESC\n",
    "     LIMIT 5;\n",
    "\"\"\")\n",
    "results = cursor.fetchall()\n",
    "display(results)"
   ]
  },
  {
   "cell_type": "markdown",
   "id": "9958cc5b",
   "metadata": {},
   "source": [
    "### Query 2"
   ]
  },
  {
   "cell_type": "code",
   "execution_count": 68,
   "id": "68c62b52",
   "metadata": {},
   "outputs": [
    {
     "data": {
      "text/plain": [
       "[('PASSENGER', 426, Decimal('38.8')),\n",
       " ('SPORT UTILITY VEHICLE (SUV)', 81, Decimal('39.3')),\n",
       " ('VAN/MINI-VAN', 29, Decimal('38.9')),\n",
       " ('MOTORCYCLE (OVER 150CC)', 24, Decimal('49.5')),\n",
       " ('PICKUP', 23, Decimal('35.1')),\n",
       " ('UNKNOWN/NA', 21, Decimal('40.3')),\n",
       " ('TRUCK - SINGLE UNIT', 14, Decimal('43.2')),\n",
       " ('BUS OVER 15 PASS.', 9, Decimal('43.3')),\n",
       " ('TRACTOR W/ SEMI-TRAILER', 8, Decimal('36.0')),\n",
       " ('OTHER', 7, Decimal('41.1')),\n",
       " ('TRACTOR W/O SEMI-TRAILER', 2, Decimal('38.5')),\n",
       " ('SINGLE UNIT TRUCK WITH TRAILER', 2, Decimal('58.5')),\n",
       " ('BUS UP TO 15 PASS.', 1, Decimal('49.0'))]"
      ]
     },
     "metadata": {},
     "output_type": "display_data"
    },
    {
     "name": "stdout",
     "output_type": "stream",
     "text": [
      "CPU times: user 3.53 ms, sys: 2.2 ms, total: 5.73 ms\n",
      "Wall time: 396 ms\n"
     ]
    }
   ],
   "source": [
    "%%time\n",
    "cursor = conn.cursor()\n",
    "cursor.execute(f\"\"\"\n",
    "    SELECT vehicle_type, fatal_crash_count, avg_driver_age\n",
    "     FROM mv_vehicle_type_fatal_driver_stats \n",
    "     ORDER BY fatal_crash_count DESC;\n",
    "\"\"\")\n",
    "results = cursor.fetchall()\n",
    "display(results)"
   ]
  },
  {
   "cell_type": "markdown",
   "id": "b66deb22",
   "metadata": {},
   "source": [
    "### Query 3"
   ]
  },
  {
   "cell_type": "code",
   "execution_count": 7,
   "id": "0ba29f9d",
   "metadata": {},
   "outputs": [
    {
     "data": {
      "text/plain": [
       "[('25-64', 2491, 12), ('Under 25', 676, 5), ('65+', 233, 3)]"
      ]
     },
     "metadata": {},
     "output_type": "display_data"
    },
    {
     "name": "stdout",
     "output_type": "stream",
     "text": [
      "CPU times: user 3 ms, sys: 2.14 ms, total: 5.14 ms\n",
      "Wall time: 605 ms\n"
     ]
    }
   ],
   "source": [
    "%%time\n",
    "cursor = conn.cursor()\n",
    "cursor.execute(f\"\"\"\n",
    "    WITH drivers AS (\n",
    "     SELECT p.*, se.name AS safety_equipment, ic.name AS injury_level\n",
    "     FROM person p\n",
    "     JOIN person_type pt ON p.person_type_id = pt.id\n",
    "     JOIN safety_equipment se ON p.safety_equipment_id = se.id\n",
    "     JOIN injury_classification ic ON p.injury_classification_id = ic.id\n",
    "     WHERE pt.name = 'DRIVER' AND se.name = 'SAFETY BELT NOT USED'\n",
    " )SELECT\n",
    "          CASE\n",
    "              WHEN age < 25 THEN 'Under 25'\n",
    "              WHEN age BETWEEN 25 AND 64 THEN '25-64'\n",
    "              ELSE '65+' END AS age_group,\n",
    "          COUNT(*) AS driver_count,\n",
    "          SUM(CASE WHEN injury_level = 'FATAL' THEN 1 ELSE 0 END) AS fatalities\n",
    "      FROM drivers\n",
    "      GROUP BY age_group\n",
    "      ORDER BY fatalities DESC;\n",
    "\"\"\")\n",
    "results = cursor.fetchall()\n",
    "display(results)"
   ]
  },
  {
   "cell_type": "code",
   "execution_count": 154,
   "id": "ab988c91",
   "metadata": {},
   "outputs": [
    {
     "data": {
      "text/plain": [
       "[('DOT COMPLIANT MOTORCYCLE HELMET', 860, 10)]"
      ]
     },
     "metadata": {},
     "output_type": "display_data"
    },
    {
     "name": "stdout",
     "output_type": "stream",
     "text": [
      "CPU times: user 1.83 ms, sys: 1.29 ms, total: 3.11 ms\n",
      "Wall time: 197 ms\n"
     ]
    }
   ],
   "source": [
    "%%time\n",
    "cursor = conn.cursor()\n",
    "cursor.execute(f\"\"\"\n",
    "    SELECT * FROM mv_safety_equipment_driver_stats\n",
    "    WHERE safety_equipment = 'DOT COMPLIANT MOTORCYCLE HELMET'\n",
    "\"\"\")\n",
    "results = cursor.fetchall()\n",
    "display(results)"
   ]
  },
  {
   "cell_type": "markdown",
   "id": "648ff4f4",
   "metadata": {},
   "source": [
    "### Query 4"
   ]
  },
  {
   "cell_type": "code",
   "execution_count": 59,
   "id": "6d5248d6",
   "metadata": {},
   "outputs": [
    {
     "data": {
      "text/plain": [
       "[('N', 10355, 10),\n",
       " ('S', 10031, 1),\n",
       " ('W', 9270, 10),\n",
       " ('E', 8975, 2),\n",
       " ('UNKNOWN', 2429, 2),\n",
       " ('SE', 628, 0),\n",
       " ('NW', 544, 0),\n",
       " ('SW', 513, 0),\n",
       " ('NE', 451, 0)]"
      ]
     },
     "metadata": {},
     "output_type": "display_data"
    },
    {
     "name": "stdout",
     "output_type": "stream",
     "text": [
      "CPU times: user 2.72 ms, sys: 1.26 ms, total: 3.98 ms\n",
      "Wall time: 345 ms\n"
     ]
    }
   ],
   "source": [
    "%%time\n",
    "cursor = conn.cursor()\n",
    "cursor.execute(f\"\"\"\n",
    "    SELECT travel_direction, vehicle_count, total_fatalities\n",
    "     FROM mv_travel_direction_stats \n",
    "     WHERE crash_year = '2025'\n",
    "     ORDER BY vehicle_count DESC\n",
    "\"\"\")\n",
    "results = cursor.fetchall()\n",
    "display(results)"
   ]
  },
  {
   "cell_type": "markdown",
   "id": "1f559cce",
   "metadata": {},
   "source": [
    "### Query 5"
   ]
  },
  {
   "cell_type": "code",
   "execution_count": 53,
   "id": "c180f22e",
   "metadata": {},
   "outputs": [
    {
     "data": {
      "text/plain": [
       "[('PASSENGER', 982599, 856, Decimal('0.09'))]"
      ]
     },
     "metadata": {},
     "output_type": "display_data"
    },
    {
     "name": "stdout",
     "output_type": "stream",
     "text": [
      "CPU times: user 3.04 ms, sys: 2.29 ms, total: 5.33 ms\n",
      "Wall time: 345 ms\n"
     ]
    }
   ],
   "source": [
    "%%time\n",
    "cursor = conn.cursor()\n",
    "cursor.execute(f\"\"\"\n",
    "    SELECT * FROM mv_vehicle_fatality_stats \n",
    "    WHERE v = 'PASSENGER'\n",
    "    ORDER BY fatal_rate_pct DESC;\n",
    "\"\"\")\n",
    "results = cursor.fetchall()\n",
    "display(results)"
   ]
  },
  {
   "cell_type": "markdown",
   "id": "2928d24d",
   "metadata": {},
   "source": [
    "### Query 6"
   ]
  },
  {
   "cell_type": "code",
   "execution_count": 96,
   "id": "69fe6cfe",
   "metadata": {},
   "outputs": [
    {
     "data": {
      "text/plain": [
       "[('10-25', 495834, 575, Decimal('0.12')),\n",
       " ('5-10', 477711, 365, Decimal('0.08')),\n",
       " ('Under 5', 460798, 322, Decimal('0.07')),\n",
       " ('25+', 10252, 21, Decimal('0.20'))]"
      ]
     },
     "metadata": {},
     "output_type": "display_data"
    },
    {
     "name": "stdout",
     "output_type": "stream",
     "text": [
      "CPU times: user 2.16 ms, sys: 2 ms, total: 4.16 ms\n",
      "Wall time: 335 ms\n"
     ]
    }
   ],
   "source": [
    "%%time\n",
    "cursor = conn.cursor()\n",
    "cursor.execute(f\"\"\"\n",
    "    SELECT * FROM mv_vehicle_age_stats ORDER BY total_fatalities DESC;\n",
    "\"\"\")\n",
    "results = cursor.fetchall()\n",
    "display(results)"
   ]
  },
  {
   "cell_type": "markdown",
   "id": "8e585e83",
   "metadata": {},
   "source": [
    "### Query 7"
   ]
  },
  {
   "cell_type": "code",
   "execution_count": 45,
   "id": "8188056e",
   "metadata": {},
   "outputs": [
    {
     "data": {
      "text/plain": [
       "[('PEDESTRIAN', 1776, 16, Decimal('0.90')),\n",
       " ('FIXED OBJECT', 3183, 27, Decimal('0.85')),\n",
       " ('HEAD ON', 748, 2, Decimal('0.27')),\n",
       " ('PEDALCYCLIST', 1255, 3, Decimal('0.24')),\n",
       " ('ANGLE', 8647, 6, Decimal('0.07'))]"
      ]
     },
     "metadata": {},
     "output_type": "display_data"
    },
    {
     "name": "stdout",
     "output_type": "stream",
     "text": [
      "CPU times: user 1.81 ms, sys: 2.11 ms, total: 3.92 ms\n",
      "Wall time: 346 ms\n"
     ]
    }
   ],
   "source": [
    "%%time\n",
    "cursor = conn.cursor()\n",
    "cursor.execute(f\"\"\"\n",
    "    SELECT crash_type, total_crashes, total_fatalities, fatality_rate_pct\n",
    "     FROM mv_crash_type_fatality_stats \n",
    "     WHERE crash_year = '2017'\n",
    "     ORDER BY fatality_rate_pct DESC\n",
    "     LIMIT 5;\n",
    "\"\"\")\n",
    "results = cursor.fetchall()\n",
    "display(results)"
   ]
  },
  {
   "cell_type": "markdown",
   "id": "bed6fa94",
   "metadata": {},
   "source": [
    "### Query 8"
   ]
  },
  {
   "cell_type": "code",
   "execution_count": 122,
   "id": "38b22c9e",
   "metadata": {},
   "outputs": [
    {
     "data": {
      "text/plain": [
       "[('CLEAR', 702576, 682),\n",
       " ('RAIN', 77071, 93),\n",
       " ('UNKNOWN', 52521, 14),\n",
       " ('SNOW', 29495, 23),\n",
       " ('CLOUDY/OVERCAST', 26281, 18)]"
      ]
     },
     "metadata": {},
     "output_type": "display_data"
    },
    {
     "name": "stdout",
     "output_type": "stream",
     "text": [
      "CPU times: user 2.03 ms, sys: 1.92 ms, total: 3.95 ms\n",
      "Wall time: 537 ms\n"
     ]
    }
   ],
   "source": [
    "%%time\n",
    "cursor = conn.cursor()\n",
    "cursor.execute(f\"\"\"\n",
    "    SELECT wc.name AS weather_condition, COUNT(*) AS total_crashes, SUM(c.injuries_fatal) AS fatal_crashes\n",
    "      FROM public.crash c\n",
    "      JOIN public.weather_condition wc ON c.weather_condition_id = wc.id\n",
    "      GROUP BY wc.name\n",
    "      ORDER BY total_crashes DESC\n",
    "      LIMIT 5;\n",
    "\"\"\")\n",
    "results = cursor.fetchall()\n",
    "display(results)"
   ]
  },
  {
   "cell_type": "markdown",
   "id": "cce1593b",
   "metadata": {},
   "source": [
    "### Query 9"
   ]
  },
  {
   "cell_type": "code",
   "execution_count": 32,
   "id": "15e1d53e",
   "metadata": {},
   "outputs": [
    {
     "data": {
      "text/plain": [
       "[('UNABLE TO DETERMINE', 9),\n",
       " ('FAILING TO YIELD RIGHT-OF-WAY', 2),\n",
       " ('IMPROPER OVERTAKING/PASSING', 2),\n",
       " ('DISREGARDING TRAFFIC SIGNALS', 1),\n",
       " ('OPERATING VEHICLE IN ERRATIC, RECKLESS, CARELESS, NEGLIGENT OR AGGRESSIVE MANNER',\n",
       "  1)]"
      ]
     },
     "metadata": {},
     "output_type": "display_data"
    },
    {
     "name": "stdout",
     "output_type": "stream",
     "text": [
      "CPU times: user 2.44 ms, sys: 2.76 ms, total: 5.2 ms\n",
      "Wall time: 341 ms\n"
     ]
    }
   ],
   "source": [
    "%%time\n",
    "cursor = conn.cursor()\n",
    "cursor.execute(f\"\"\"\n",
    "    SELECT primary_cause, fatal_crashes\n",
    "     FROM mv_primary_cause_fatal_stats \n",
    "     WHERE crash_year = '2025'\n",
    "     ORDER BY fatal_crashes DESC\n",
    "     LIMIT 5;\n",
    "\"\"\")\n",
    "results = cursor.fetchall()\n",
    "display(results)"
   ]
  },
  {
   "cell_type": "markdown",
   "id": "9af5c9fa",
   "metadata": {},
   "source": [
    "### Query 10"
   ]
  },
  {
   "cell_type": "code",
   "execution_count": 33,
   "id": "7df35484",
   "metadata": {},
   "outputs": [
    {
     "data": {
      "text/plain": [
       "[('CLEAR', 18857, 12),\n",
       " ('UNKNOWN', 2317, 1),\n",
       " ('RAIN', 1696, 1),\n",
       " ('SNOW', 1625, 1),\n",
       " ('CLOUDY/OVERCAST', 849, 0)]"
      ]
     },
     "metadata": {},
     "output_type": "display_data"
    },
    {
     "name": "stdout",
     "output_type": "stream",
     "text": [
      "CPU times: user 1.73 ms, sys: 1.35 ms, total: 3.09 ms\n",
      "Wall time: 221 ms\n"
     ]
    }
   ],
   "source": [
    "%%time\n",
    "cursor = conn.cursor()\n",
    "cursor.execute(f\"\"\"\n",
    "      SELECT weather_condition, total_crashes, fatal_crashes\n",
    "      FROM mv_weather_condition_stats \n",
    "      WHERE crash_year = '2025'\n",
    "      ORDER BY total_crashes DESC\n",
    "      LIMIT 5;\n",
    "\"\"\")\n",
    "results = cursor.fetchall()\n",
    "display(results)"
   ]
  }
 ],
 "metadata": {
  "kernelspec": {
   "display_name": "Python 3",
   "language": "python",
   "name": "python3"
  },
  "language_info": {
   "codemirror_mode": {
    "name": "ipython",
    "version": 3
   },
   "file_extension": ".py",
   "mimetype": "text/x-python",
   "name": "python",
   "nbconvert_exporter": "python",
   "pygments_lexer": "ipython3",
   "version": "3.9.6"
  }
 },
 "nbformat": 4,
 "nbformat_minor": 5
}
